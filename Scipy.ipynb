{
 "cells": [
  {
   "attachments": {
    "image-2.png": {
     "image/png": "[encoded data removed]"
    }
   },
   "cell_type": "markdown",
   "id": "91aa6c20",
   "metadata": {},
   "source": [
    "![image-2.png](attachment:image-2.png)"
   ]
  },
  {
   "cell_type": "markdown",
   "id": "f6b6f599",
   "metadata": {},
   "source": [
    "Ref: https://www.w3schools.com/python/scipy/index.php"
   ]
  },
  {
   "cell_type": "markdown",
   "id": "c2310496",
   "metadata": {},
   "source": [
    "# SciPy Introduction"
   ]
  },
  {
   "cell_type": "markdown",
   "id": "81f8b086",
   "metadata": {},
   "source": [
    "### What is SciPy?\n",
    "- SciPy is a scientific computation library that uses NumPy underneath.\n",
    "- SciPy stands for Scientific Python.\n",
    "- It provides more utility functions for optimization, stats and signal processing.\n",
    "- Like NumPy, SciPy is open source so we can use it freely.\n",
    "- SciPy was created by NumPy's creator Travis Olliphant."
   ]
  },
  {
   "cell_type": "markdown",
   "id": "791bde61",
   "metadata": {},
   "source": [
    "### Why Use SciPy?\n",
    "- If SciPy uses NumPy underneath, why can we not just use NumPy?\n",
    "- SciPy has optimized and added functions that are frequently used in NumPy and Data Science.\n",
    "### Which Language is SciPy Written in?\n",
    "- SciPy is predominantly written in Python, but a few segments are written in C."
   ]
  },
  {
   "cell_type": "markdown",
   "id": "02deee40",
   "metadata": {},
   "source": [
    "### Which Language is SciPy Written in?\n",
    "- SciPy is predominantly written in Python, but a few segments are written in C."
   ]
  },
  {
   "cell_type": "markdown",
   "id": "571bea72",
   "metadata": {},
   "source": [
    "### Where is the SciPy Codebase?\n",
    "- The source code for SciPy is located at this github repository https://github.com/scipy/scipy\n"
   ]
  },
  {
   "cell_type": "markdown",
   "id": "0e6ab6e6",
   "metadata": {},
   "source": [
    "# SciPy Getting Started"
   ]
  },
  {
   "cell_type": "markdown",
   "id": "f28fcb78",
   "metadata": {},
   "source": [
    "### Installation of SciPy"
   ]
  },
  {
   "cell_type": "code",
   "execution_count": 1,
   "id": "bd88b18e",
   "metadata": {},
   "outputs": [
    {
     "name": "stdout",
     "output_type": "stream",
     "text": [
      "Requirement already satisfied: scipy in c:\\users\\karthick\\anaconda3\\lib\\site-packages (1.7.3)\n",
      "Requirement already satisfied: numpy<1.23.0,>=1.16.5 in c:\\users\\karthick\\anaconda3\\lib\\site-packages (from scipy) (1.21.6)\n"
     ]
    }
   ],
   "source": [
    "! pip install scipy"
   ]
  },
  {
   "cell_type": "markdown",
   "id": "2159f945",
   "metadata": {},
   "source": [
    "### Import SciPy\n",
    "- Once SciPy is installed, import the SciPy module(s) you want to use in your applications by adding the from scipy import module statement:"
   ]
  },
  {
   "cell_type": "code",
   "execution_count": 2,
   "id": "a3782847",
   "metadata": {},
   "outputs": [],
   "source": [
    "from scipy import constants"
   ]
  },
  {
   "cell_type": "markdown",
   "id": "c889a7d1",
   "metadata": {},
   "source": [
    "- imported the constants module from SciPy, and the application is ready to use it:"
   ]
  },
  {
   "cell_type": "markdown",
   "id": "d18c3a02",
   "metadata": {},
   "source": [
    "### Example\n",
    "- How many cubic meters are in one liter:"
   ]
  },
  {
   "cell_type": "code",
   "execution_count": 3,
   "id": "bcd221fc",
   "metadata": {},
   "outputs": [
    {
     "name": "stdout",
     "output_type": "stream",
     "text": [
      "0.001\n"
     ]
    }
   ],
   "source": [
    "from scipy import constants\n",
    "print(constants.liter)"
   ]
  },
  {
   "cell_type": "markdown",
   "id": "55755c61",
   "metadata": {},
   "source": [
    "`constants:`SciPy offers a set of mathematical constants, one of them is liter which returns 1 liter as cubic meters."
   ]
  },
  {
   "cell_type": "markdown",
   "id": "1742abbc",
   "metadata": {},
   "source": [
    "### Checking SciPy Version\n",
    "- The version string is stored under the __version__ attribute."
   ]
  },
  {
   "cell_type": "code",
   "execution_count": 4,
   "id": "9cb68f7e",
   "metadata": {},
   "outputs": [
    {
     "name": "stdout",
     "output_type": "stream",
     "text": [
      "1.7.3\n"
     ]
    }
   ],
   "source": [
    "import scipy\n",
    "print(scipy.__version__)"
   ]
  },
  {
   "cell_type": "markdown",
   "id": "ea9d3d96",
   "metadata": {},
   "source": [
    "## SciPy Constants"
   ]
  },
  {
   "cell_type": "markdown",
   "id": "9702c9db",
   "metadata": {},
   "source": [
    "- As SciPy is more focused on scientific implementations, it provides many built-in scientific constants.\n",
    "- These constants can be helpful when you are working with Data Science.\n",
    "- PI is an example of a scientific constant."
   ]
  },
  {
   "cell_type": "code",
   "execution_count": 5,
   "id": "c19cc3f1",
   "metadata": {},
   "outputs": [
    {
     "name": "stdout",
     "output_type": "stream",
     "text": [
      "3.141592653589793\n"
     ]
    }
   ],
   "source": [
    "from scipy import constants\n",
    "print(constants.pi)"
   ]
  },
  {
   "cell_type": "markdown",
   "id": "1aa8dfef",
   "metadata": {},
   "source": [
    "### Constant Units\n",
    "- A list of all units under the constants module can be seen using the dir()\n",
    "function."
   ]
  },
  {
   "cell_type": "code",
   "execution_count": 6,
   "id": "f1c1d93f",
   "metadata": {},
   "outputs": [
    {
     "name": "stdout",
     "output_type": "stream",
     "text": [
      "['Avogadro', 'Boltzmann', 'Btu', 'Btu_IT', 'Btu_th', 'ConstantWarning', 'G', 'Julian_year', 'N_A', 'Planck', 'R', 'Rydberg', 'Stefan_Boltzmann', 'Wien', '__all__', '__builtins__', '__cached__', '__doc__', '__file__', '__loader__', '__name__', '__package__', '__path__', '__spec__', '_obsolete_constants', 'acre', 'alpha', 'angstrom', 'arcmin', 'arcminute', 'arcsec', 'arcsecond', 'astronomical_unit', 'atm', 'atmosphere', 'atomic_mass', 'atto', 'au', 'bar', 'barrel', 'bbl', 'blob', 'c', 'calorie', 'calorie_IT', 'calorie_th', 'carat', 'centi', 'codata', 'constants', 'convert_temperature', 'day', 'deci', 'degree', 'degree_Fahrenheit', 'deka', 'dyn', 'dyne', 'e', 'eV', 'electron_mass', 'electron_volt', 'elementary_charge', 'epsilon_0', 'erg', 'exa', 'exbi', 'femto', 'fermi', 'find', 'fine_structure', 'fluid_ounce', 'fluid_ounce_US', 'fluid_ounce_imp', 'foot', 'g', 'gallon', 'gallon_US', 'gallon_imp', 'gas_constant', 'gibi', 'giga', 'golden', 'golden_ratio', 'grain', 'gram', 'gravitational_constant', 'h', 'hbar', 'hectare', 'hecto', 'horsepower', 'hour', 'hp', 'inch', 'k', 'kgf', 'kibi', 'kilo', 'kilogram_force', 'kmh', 'knot', 'lambda2nu', 'lb', 'lbf', 'light_year', 'liter', 'litre', 'long_ton', 'm_e', 'm_n', 'm_p', 'm_u', 'mach', 'mebi', 'mega', 'metric_ton', 'micro', 'micron', 'mil', 'mile', 'milli', 'minute', 'mmHg', 'mph', 'mu_0', 'nano', 'nautical_mile', 'neutron_mass', 'nu2lambda', 'ounce', 'oz', 'parsec', 'pebi', 'peta', 'physical_constants', 'pi', 'pico', 'point', 'pound', 'pound_force', 'precision', 'proton_mass', 'psi', 'pt', 'short_ton', 'sigma', 'slinch', 'slug', 'speed_of_light', 'speed_of_sound', 'stone', 'survey_foot', 'survey_mile', 'tebi', 'tera', 'test', 'ton_TNT', 'torr', 'troy_ounce', 'troy_pound', 'u', 'unit', 'value', 'week', 'yard', 'year', 'yobi', 'yotta', 'zebi', 'zepto', 'zero_Celsius', 'zetta']\n"
     ]
    }
   ],
   "source": [
    "#List all constants:\n",
    "from scipy import constants\n",
    "print(dir(constants))"
   ]
  },
  {
   "cell_type": "markdown",
   "id": "e6be493b",
   "metadata": {},
   "source": [
    "### Unit Categories\n",
    "- The units are placed under these categories:    \n",
    "● Metric\n",
    "● Binary\n",
    "● Mass\n",
    "● Angle\n",
    "● Time\n",
    "● Length\n",
    "● Pressure\n",
    "● Volume\n",
    "● Speed\n",
    "● Temperature\n",
    "● Energy\n",
    "● Power\n",
    "● Force"
   ]
  },
  {
   "cell_type": "markdown",
   "id": "aeaf2df4",
   "metadata": {},
   "source": [
    "### Metric (SI) Prefixes:\n",
    "- Return the specified unit in meter (e.g. centi returns 0.01)"
   ]
  },
  {
   "cell_type": "code",
   "execution_count": 7,
   "id": "ef0c8a21",
   "metadata": {},
   "outputs": [
    {
     "name": "stdout",
     "output_type": "stream",
     "text": [
      "1e+24\n",
      "1e+21\n",
      "1e+18\n",
      "1000000000000000.0\n",
      "1000000000000.0\n",
      "1000000000.0\n",
      "1000000.0\n",
      "1000.0\n",
      "100.0\n",
      "10.0\n",
      "0.1\n",
      "0.01\n",
      "0.001\n",
      "1e-06\n",
      "1e-09\n",
      "1e-12\n",
      "1e-15\n",
      "1e-18\n",
      "1e-21\n"
     ]
    }
   ],
   "source": [
    "from scipy import constants\n",
    "print(constants.yotta) #1e+24\n",
    "print(constants.zetta) #1e+21\n",
    "print(constants.exa) #1e+18\n",
    "print(constants.peta) #1000000000000000.0\n",
    "print(constants.tera) #1000000000000.0\n",
    "print(constants.giga) #1000000000.0\n",
    "print(constants.mega) #1000000.0\n",
    "print(constants.kilo) #1000.0\n",
    "print(constants.hecto) #100.0\n",
    "print(constants.deka) #10.0\n",
    "print(constants.deci) #0.1\n",
    "print(constants.centi) #0.01\n",
    "print(constants.milli) #0.001\n",
    "print(constants.micro) #1e-06\n",
    "print(constants.nano) #1e-09\n",
    "print(constants.pico) #1e-12\n",
    "print(constants.femto) #1e-15\n",
    "print(constants.atto) #1e-18\n",
    "print(constants.zepto) #1e-21"
   ]
  },
  {
   "cell_type": "markdown",
   "id": "47b17e21",
   "metadata": {},
   "source": [
    "### Binary Prefixes:\n",
    "- Return the specified unit in bytes (e.g. kibi returns 1024)"
   ]
  },
  {
   "cell_type": "code",
   "execution_count": 8,
   "id": "1400be83",
   "metadata": {},
   "outputs": [
    {
     "name": "stdout",
     "output_type": "stream",
     "text": [
      "1024\n",
      "1048576\n",
      "1073741824\n",
      "1099511627776\n",
      "1125899906842624\n",
      "1152921504606846976\n",
      "1180591620717411303424\n",
      "1208925819614629174706176\n"
     ]
    }
   ],
   "source": [
    "from scipy import constants\n",
    "print(constants.kibi) #1024\n",
    "print(constants.mebi) #1048576\n",
    "print(constants.gibi) #1073741824\n",
    "print(constants.tebi) #1099511627776\n",
    "print(constants.pebi) #1125899906842624\n",
    "print(constants.exbi) #1152921504606846976\n",
    "print(constants.zebi) #1180591620717411303424\n",
    "print(constants.yobi) #1208925819614629174706176"
   ]
  },
  {
   "cell_type": "markdown",
   "id": "fba2328d",
   "metadata": {},
   "source": [
    "### Mass:\n",
    "- Return the specified unit in kg (e.g. gram returns 0.001)"
   ]
  },
  {
   "cell_type": "code",
   "execution_count": 10,
   "id": "e31f157e",
   "metadata": {},
   "outputs": [
    {
     "name": "stdout",
     "output_type": "stream",
     "text": [
      "0.001\n",
      "1000.0\n",
      "6.479891e-05\n",
      "0.45359236999999997\n",
      "0.45359236999999997\n",
      "0.028349523124999998\n",
      "0.028349523124999998\n",
      "6.3502931799999995\n",
      "1016.0469088\n",
      "907.1847399999999\n",
      "0.031103476799999998\n",
      "0.37324172159999996\n",
      "0.0002\n",
      "1.6605390666e-27\n",
      "1.6605390666e-27\n",
      "1.6605390666e-27\n"
     ]
    }
   ],
   "source": [
    "from scipy import constants\n",
    "print(constants.gram) #0.001\n",
    "print(constants.metric_ton) #1000.0\n",
    "print(constants.grain) #6.479891e-05\n",
    "print(constants.lb) #0.45359236999999997\n",
    "print(constants.pound) #0.45359236999999997\n",
    "print(constants.oz) #0.028349523124999998\n",
    "print(constants.ounce) #0.028349523124999998\n",
    "print(constants.stone) #6.3502931799999995\n",
    "print(constants.long_ton) #1016.0469088\n",
    "print(constants.short_ton) #907.1847399999999\n",
    "print(constants.troy_ounce) #0.031103476799999998\n",
    "print(constants.troy_pound) #0.37324172159999996\n",
    "print(constants.carat) #0.0002\n",
    "print(constants.atomic_mass) #1.66053904e-27\n",
    "print(constants.m_u) #1.66053904e-27\n",
    "print(constants.u) #1.66053904e-27"
   ]
  },
  {
   "cell_type": "markdown",
   "id": "b0264463",
   "metadata": {},
   "source": [
    "### Angle:\n",
    "- Return the specified unit in radians (e.g. degree returns 0.017453292519943295)"
   ]
  },
  {
   "cell_type": "code",
   "execution_count": 11,
   "id": "42f6fec7",
   "metadata": {},
   "outputs": [
    {
     "name": "stdout",
     "output_type": "stream",
     "text": [
      "0.017453292519943295\n",
      "0.0002908882086657216\n",
      "0.0002908882086657216\n",
      "4.84813681109536e-06\n",
      "4.84813681109536e-06\n"
     ]
    }
   ],
   "source": [
    "from scipy import constants\n",
    "print(constants.degree) #0.017453292519943295\n",
    "print(constants.arcmin) #0.0002908882086657216\n",
    "print(constants.arcminute) #0.0002908882086657216\n",
    "print(constants.arcsec) #4.84813681109536e-06\n",
    "print(constants.arcsecond) #4.84813681109536e-06"
   ]
  },
  {
   "cell_type": "markdown",
   "id": "ec4ee8e3",
   "metadata": {},
   "source": [
    "### Time:\n",
    "- Return the specified unit in seconds (e.g. hour returns 3600.0)"
   ]
  },
  {
   "cell_type": "code",
   "execution_count": 12,
   "id": "54605213",
   "metadata": {},
   "outputs": [
    {
     "name": "stdout",
     "output_type": "stream",
     "text": [
      "60.0\n",
      "3600.0\n",
      "86400.0\n",
      "604800.0\n",
      "31536000.0\n",
      "31557600.0\n"
     ]
    }
   ],
   "source": [
    "from scipy import constants\n",
    "print(constants.minute) #60.0\n",
    "print(constants.hour) #3600.0\n",
    "print(constants.day) #86400.0\n",
    "print(constants.week) #604800.0\n",
    "print(constants.year) #31536000.0\n",
    "print(constants.Julian_year) #31557600.0"
   ]
  },
  {
   "cell_type": "markdown",
   "id": "3bf450b2",
   "metadata": {},
   "source": [
    "### Length:\n",
    "- Return the specified unit in meters (e.g. nautical_mile returns 1852.0)"
   ]
  },
  {
   "cell_type": "code",
   "execution_count": 13,
   "id": "b6acc00c",
   "metadata": {},
   "outputs": [
    {
     "name": "stdout",
     "output_type": "stream",
     "text": [
      "0.0254\n",
      "0.30479999999999996\n",
      "0.9143999999999999\n",
      "1609.3439999999998\n",
      "2.5399999999999997e-05\n",
      "0.00035277777777777776\n",
      "0.00035277777777777776\n",
      "0.3048006096012192\n",
      "1609.3472186944373\n",
      "1852.0\n",
      "1e-15\n",
      "1e-10\n",
      "1e-06\n",
      "149597870700.0\n",
      "149597870700.0\n",
      "9460730472580800.0\n",
      "3.085677581491367e+16\n"
     ]
    }
   ],
   "source": [
    "from scipy import constants\n",
    "print(constants.inch) #0.0254\n",
    "print(constants.foot) #0.30479999999999996\n",
    "print(constants.yard) #0.9143999999999999\n",
    "print(constants.mile) #1609.3439999999998\n",
    "print(constants.mil) #2.5399999999999997e-05\n",
    "print(constants.pt) #0.00035277777777777776\n",
    "print(constants.point) #0.00035277777777777776\n",
    "print(constants.survey_foot) #0.3048006096012192\n",
    "print(constants.survey_mile) #1609.3472186944373\n",
    "print(constants.nautical_mile) #1852.0\n",
    "print(constants.fermi) #1e-15\n",
    "print(constants.angstrom) #1e-10\n",
    "print(constants.micron) #1e-06\n",
    "print(constants.au) #149597870691.0\n",
    "print(constants.astronomical_unit) #149597870691.0\n",
    "print(constants.light_year) #9460730472580800.0\n",
    "print(constants.parsec) #3.0856775813057292e+16"
   ]
  },
  {
   "cell_type": "markdown",
   "id": "eabaaa90",
   "metadata": {},
   "source": [
    "### Pressure:\n",
    "- Return the specified unit in pascals (e.g. psi returns 6894.757293168361)"
   ]
  },
  {
   "cell_type": "code",
   "execution_count": 14,
   "id": "fa3705bf",
   "metadata": {},
   "outputs": [
    {
     "name": "stdout",
     "output_type": "stream",
     "text": [
      "101325.0\n",
      "101325.0\n",
      "100000.0\n",
      "133.32236842105263\n",
      "133.32236842105263\n",
      "6894.757293168361\n"
     ]
    }
   ],
   "source": [
    "from scipy import constants\n",
    "print(constants.atm) #101325.0\n",
    "print(constants.atmosphere) #101325.0\n",
    "print(constants.bar) #100000.0\n",
    "print(constants.torr) #133.32236842105263\n",
    "print(constants.mmHg) #133.32236842105263\n",
    "print(constants.psi) #6894.757293168361"
   ]
  },
  {
   "cell_type": "markdown",
   "id": "1c519a48",
   "metadata": {},
   "source": [
    "### Area:\n",
    "- Return the specified unit in square meters(e.g. hectare returns 10000.0)"
   ]
  },
  {
   "cell_type": "code",
   "execution_count": 15,
   "id": "544a0404",
   "metadata": {},
   "outputs": [
    {
     "name": "stdout",
     "output_type": "stream",
     "text": [
      "10000.0\n",
      "4046.8564223999992\n"
     ]
    }
   ],
   "source": [
    "from scipy import constants\n",
    "print(constants.hectare) #10000.0\n",
    "print(constants.acre) #4046.8564223999992"
   ]
  },
  {
   "cell_type": "markdown",
   "id": "68572eb6",
   "metadata": {},
   "source": [
    "### Volume:\n",
    "- Return the specified unit in cubic meters (e.g. liter returns 0.001)"
   ]
  },
  {
   "cell_type": "code",
   "execution_count": 16,
   "id": "d3e2b9ca",
   "metadata": {},
   "outputs": [
    {
     "name": "stdout",
     "output_type": "stream",
     "text": [
      "0.001\n",
      "0.001\n",
      "0.0037854117839999997\n",
      "0.0037854117839999997\n",
      "0.00454609\n",
      "2.9573529562499998e-05\n",
      "2.9573529562499998e-05\n",
      "2.84130625e-05\n",
      "0.15898729492799998\n",
      "0.15898729492799998\n"
     ]
    }
   ],
   "source": [
    "from scipy import constants\n",
    "print(constants.liter) #0.001\n",
    "print(constants.litre) #0.001\n",
    "print(constants.gallon) #0.0037854117839999997\n",
    "print(constants.gallon_US) #0.0037854117839999997\n",
    "print(constants.gallon_imp) #0.00454609\n",
    "print(constants.fluid_ounce) #2.9573529562499998e-05\n",
    "print(constants.fluid_ounce_US) #2.9573529562499998e-05\n",
    "print(constants.fluid_ounce_imp) #2.84130625e-05\n",
    "print(constants.barrel) #0.15898729492799998\n",
    "print(constants.bbl) #0.15898729492799998"
   ]
  },
  {
   "cell_type": "markdown",
   "id": "9ec1cc63",
   "metadata": {},
   "source": [
    "### Speed:\n",
    "- Return the specified unit in meters per second (e.g. speed_of_sound returns 340.5)"
   ]
  },
  {
   "cell_type": "code",
   "execution_count": 17,
   "id": "44ee5ead",
   "metadata": {},
   "outputs": [
    {
     "name": "stdout",
     "output_type": "stream",
     "text": [
      "0.2777777777777778\n",
      "0.44703999999999994\n",
      "340.5\n",
      "340.5\n",
      "0.5144444444444445\n"
     ]
    }
   ],
   "source": [
    "from scipy import constants\n",
    "print(constants.kmh) #0.2777777777777778\n",
    "print(constants.mph) #0.44703999999999994\n",
    "print(constants.mach) #340.5\n",
    "print(constants.speed_of_sound) #340.5\n",
    "print(constants.knot) #0.5144444444444445"
   ]
  },
  {
   "cell_type": "markdown",
   "id": "a53f01be",
   "metadata": {},
   "source": [
    "### Temperature:\n",
    "- Return the specified unit in Kelvin (e.g. zero_Celsius returns 273.15)"
   ]
  },
  {
   "cell_type": "code",
   "execution_count": 18,
   "id": "95ee9eab",
   "metadata": {},
   "outputs": [
    {
     "name": "stdout",
     "output_type": "stream",
     "text": [
      "273.15\n",
      "0.5555555555555556\n"
     ]
    }
   ],
   "source": [
    "from scipy import constants\n",
    "print(constants.zero_Celsius) #273.15\n",
    "print(constants.degree_Fahrenheit) #0.5555555555555556"
   ]
  },
  {
   "cell_type": "markdown",
   "id": "808f541b",
   "metadata": {},
   "source": [
    "### Energy:\n",
    "- Return the specified unit in joules (e.g. calorie returns 4.184)"
   ]
  },
  {
   "cell_type": "code",
   "execution_count": 20,
   "id": "ee2607b3",
   "metadata": {},
   "outputs": [
    {
     "name": "stdout",
     "output_type": "stream",
     "text": [
      "1.602176634e-19\n",
      "1.602176634e-19\n",
      "4.184\n",
      "4.184\n",
      "4.1868\n",
      "1e-07\n",
      "1055.05585262\n",
      "1055.05585262\n",
      "1054.3502644888888\n",
      "4184000000.0\n"
     ]
    }
   ],
   "source": [
    "from scipy import constants\n",
    "print(constants.eV) #1.6021766208e-19\n",
    "print(constants.electron_volt) #1.6021766208e-19\n",
    "print(constants.calorie) #4.184\n",
    "print(constants.calorie_th) #4.184\n",
    "print(constants.calorie_IT) #4.1868\n",
    "print(constants.erg) #1e-07\n",
    "print(constants.Btu) #1055.05585262\n",
    "print(constants.Btu_IT) #1055.05585262\n",
    "print(constants.Btu_th) #1054.3502644888888\n",
    "print(constants.ton_TNT) #4184000000.0"
   ]
  },
  {
   "cell_type": "markdown",
   "id": "725af92e",
   "metadata": {},
   "source": [
    "### Power:\n",
    "- Return the specified unit in watts (e.g. horsepower returns 745.6998715822701)"
   ]
  },
  {
   "cell_type": "code",
   "execution_count": 21,
   "id": "8c0b093f",
   "metadata": {},
   "outputs": [
    {
     "name": "stdout",
     "output_type": "stream",
     "text": [
      "745.6998715822701\n",
      "745.6998715822701\n"
     ]
    }
   ],
   "source": [
    "from scipy import constants\n",
    "print(constants.hp) #745.6998715822701\n",
    "print(constants.horsepower) #745.6998715822701"
   ]
  },
  {
   "cell_type": "markdown",
   "id": "5fb428d2",
   "metadata": {},
   "source": [
    "### Force:\n",
    "- Return the specified unit in newton (e.g. kilogram_force returns 9.80665)"
   ]
  },
  {
   "cell_type": "code",
   "execution_count": 22,
   "id": "cc8db552",
   "metadata": {},
   "outputs": [
    {
     "name": "stdout",
     "output_type": "stream",
     "text": [
      "1e-05\n",
      "1e-05\n",
      "4.4482216152605\n",
      "4.4482216152605\n",
      "9.80665\n",
      "9.80665\n"
     ]
    }
   ],
   "source": [
    "from scipy import constants\n",
    "print(constants.dyn) #1e-05\n",
    "print(constants.dyne) #1e-05\n",
    "print(constants.lbf) #4.4482216152605\n",
    "print(constants.pound_force) #4.4482216152605\n",
    "print(constants.kgf) #9.80665\n",
    "print(constants.kilogram_force) #9.80665"
   ]
  },
  {
   "cell_type": "code",
   "execution_count": null,
   "id": "8e0557f3",
   "metadata": {},
   "outputs": [],
   "source": []
  },
  {
   "cell_type": "markdown",
   "id": "3affe7ed",
   "metadata": {},
   "source": [
    "# SciPy Optimizers\n",
    "- Optimizers are a set of procedures defined in SciPy that either find the minimum value of a function, or the root of an equation."
   ]
  },
  {
   "cell_type": "markdown",
   "id": "9852bf18",
   "metadata": {},
   "source": [
    "### Optimizing Functions\n",
    "- Essentially, all of the algorithms in Machine Learning are nothing more than a complex equation that needs to be minimized with the help of given data"
   ]
  },
  {
   "cell_type": "markdown",
   "id": "b3197af7",
   "metadata": {},
   "source": [
    "### Roots of an Equation\n",
    "- NumPy is capable of finding roots for polynomials and linear equations, but it can not find roots for nonlinear equations, like this one:\n",
    "``\n",
    "    x + cos(x)\n",
    "For that you can use SciPy's optimize.root function.\n",
    "This function takes two required arguments:\n",
    "fun - a function representing an equation.\n",
    "x0 - an initial guess for the root.\n",
    "``\n",
    "- The function returns an object with information regarding the solution.\n",
    "- The actual solution is given under attribute x of the returned object:"
   ]
  },
  {
   "cell_type": "markdown",
   "id": "b06452d2",
   "metadata": {},
   "source": [
    "### Example\n",
    "- Find root of the equation x + cos(x):"
   ]
  },
  {
   "cell_type": "code",
   "execution_count": 23,
   "id": "35b65a26",
   "metadata": {},
   "outputs": [],
   "source": [
    "from scipy.optimize import root\n",
    "from math import cos\n",
    "def eqn(x):\n",
    "    return x + cos(x)"
   ]
  },
  {
   "cell_type": "code",
   "execution_count": 24,
   "id": "272495d1",
   "metadata": {},
   "outputs": [
    {
     "name": "stdout",
     "output_type": "stream",
     "text": [
      "[-0.73908513]\n"
     ]
    }
   ],
   "source": [
    "myroot = root(eqn, 0)\n",
    "print(myroot.x)"
   ]
  },
  {
   "cell_type": "markdown",
   "id": "c60731c9",
   "metadata": {},
   "source": [
    "``Note: The returned object has much more information about the solution``"
   ]
  },
  {
   "cell_type": "code",
   "execution_count": 25,
   "id": "631790e0",
   "metadata": {},
   "outputs": [
    {
     "name": "stdout",
     "output_type": "stream",
     "text": [
      "    fjac: array([[-1.]])\n",
      "     fun: array([0.])\n",
      " message: 'The solution converged.'\n",
      "    nfev: 9\n",
      "     qtf: array([-2.66786593e-13])\n",
      "       r: array([-1.67361202])\n",
      "  status: 1\n",
      " success: True\n",
      "       x: array([-0.73908513])\n"
     ]
    }
   ],
   "source": [
    "#Print all information about the solution (not just x which is the root)\n",
    "print(myroot)"
   ]
  },
  {
   "cell_type": "markdown",
   "id": "5546d2b4",
   "metadata": {},
   "source": [
    "### Minimizing a Function\n",
    "- A function, in this context, represents a curve, curves have high points and low points.\n",
    "``\n",
    "High points are called maxima.\n",
    "Low points are called minima.\n",
    "``\n",
    "- The highest point in the whole curve is called `global maxima`, whereas the rest of them are called `local maxima`.\n",
    "- The lowest point in the whole curve is called `global minima`, whereas the rest of them are called `local minima`."
   ]
  },
  {
   "cell_type": "markdown",
   "id": "28358f3a",
   "metadata": {},
   "source": [
    "### Finding Minima\n",
    "- We can use scipy.optimize.minimize() function to minimize the function.\n",
    "- The minimize() function takes the following arguments:\n",
    "- \n",
    "`\n",
    "fun - a function representing an equation.\n",
    "x0 - an initial guess for the root.\n",
    "method - name of the method to use. Legal values:\n",
    "'CG'\n",
    "'BFGS'\n",
    "'Newton-CG'\n",
    "'L-BFGS-B'\n",
    "'TNC'\n",
    "'COBYLA'\n",
    "'SLSQP'\n",
    "callback - function called after each iteration of optimization.\n",
    "options - a dictionary defining extra params:\n",
    "{\n",
    "\"disp\": boolean - print detailed description\n",
    "\"gtol\": number - the tolerance of the error\n",
    "}\n",
    "`"
   ]
  },
  {
   "cell_type": "markdown",
   "id": "58d07d39",
   "metadata": {},
   "source": [
    "### Example\n",
    "- Minimize the function x^2 + x + 2 with BFGS:"
   ]
  },
  {
   "cell_type": "code",
   "execution_count": 27,
   "id": "5b06ab22",
   "metadata": {},
   "outputs": [
    {
     "name": "stdout",
     "output_type": "stream",
     "text": [
      "      fun: 1.75\n",
      " hess_inv: array([[0.50000001]])\n",
      "      jac: array([0.])\n",
      "  message: 'Optimization terminated successfully.'\n",
      "     nfev: 8\n",
      "      nit: 2\n",
      "     njev: 4\n",
      "   status: 0\n",
      "  success: True\n",
      "        x: array([-0.50000001])\n"
     ]
    }
   ],
   "source": [
    "from scipy.optimize import minimize\n",
    "def eqn(x):\n",
    "    return x**2 + x + 2\n",
    "mymin = minimize(eqn, 0, method='BFGS')\n",
    "print(mymin)"
   ]
  },
  {
   "cell_type": "markdown",
   "id": "0891e3bc",
   "metadata": {},
   "source": [
    "# SciPy Sparse Data\n"
   ]
  },
  {
   "cell_type": "markdown",
   "id": "6bf30676",
   "metadata": {},
   "source": [
    "### What is Sparse Data\n",
    "- Sparse data is data that has mostly unused elements (elements that don't carry any information ).\n",
    "- It can be an array like this one:\n",
    "`                                                      \n",
    "[1, 0, 2, 0, 0, 3, 0, 0, 0, 0, 0, 0]\n",
    "`  \n",
    "- `Sparse Data:` is a data set where most of the item values are zero.\n",
    "- `Dense Array:` is the opposite of a sparse array: most of the values are not zero.\n",
    "- In scientific computing, when we are dealing with partial derivatives in linear algebra we will come across sparse data.                                                       \n",
    "                                                       \n",
    "    \n",
    "                                                    \n",
    "                                                       "
   ]
  },
  {
   "cell_type": "markdown",
   "id": "c1327413",
   "metadata": {},
   "source": [
    "### How to Work With Sparse Data\n",
    "- SciPy has a module, scipy.sparse that provides functions to deal with sparse data.\n",
    "- There are primarily two types of sparse matrices that we use:\n",
    "    - `CSC-Compressed Sparse Column`. For efficient arithmetic, fast column slicing.\n",
    "    - `CSR-Compressed Sparse Row`. For fast row slicing, faster matrix vector products\n"
   ]
  },
  {
   "cell_type": "markdown",
   "id": "458fb847",
   "metadata": {},
   "source": [
    "### CSR Matrix\n",
    "- We can create a CSR matrix by passing an array into the function `scipy.sparse.csr_matrix()`."
   ]
  },
  {
   "cell_type": "markdown",
   "id": "5d409db9",
   "metadata": {},
   "source": [
    "### Example\n",
    "- Create a CSR matrix from an array:"
   ]
  },
  {
   "cell_type": "code",
   "execution_count": 28,
   "id": "1509daf4",
   "metadata": {},
   "outputs": [
    {
     "name": "stdout",
     "output_type": "stream",
     "text": [
      "  (0, 5)\t1\n",
      "  (0, 6)\t1\n",
      "  (0, 8)\t2\n"
     ]
    }
   ],
   "source": [
    "import numpy as np\n",
    "from scipy.sparse import csr_matrix\n",
    "arr = np.array([0, 0, 0, 0, 0, 1, 1, 0, 2])\n",
    "print(csr_matrix(arr))"
   ]
  },
  {
   "cell_type": "raw",
   "id": "969860f0",
   "metadata": {},
   "source": [
    "From the result we can see that there are 3 items with value.\n",
    "The 1. item is in row 0 position 5 and has the value 1.\n",
    "The 2. item is in row 0 position 6 and has the value 1.\n",
    "The 3. item is in row 0 position 8 and has the value 2."
   ]
  },
  {
   "cell_type": "markdown",
   "id": "14e38e3a",
   "metadata": {},
   "source": [
    "### Sparse Matrix Methods\n",
    "- Viewing stored data (not the zero items) with the data property:"
   ]
  },
  {
   "cell_type": "code",
   "execution_count": 29,
   "id": "eab55050",
   "metadata": {},
   "outputs": [
    {
     "name": "stdout",
     "output_type": "stream",
     "text": [
      "[1 1 2]\n"
     ]
    }
   ],
   "source": [
    "import numpy as np\n",
    "from scipy.sparse import csr_matrix\n",
    "arr = np.array([[0, 0, 0], [0, 0, 1], [1, 0, 2]])\n",
    "print(csr_matrix(arr).data)"
   ]
  },
  {
   "cell_type": "code",
   "execution_count": 31,
   "id": "0c8760d2",
   "metadata": {},
   "outputs": [
    {
     "name": "stdout",
     "output_type": "stream",
     "text": [
      "  (1, 2)\t1\n",
      "  (2, 0)\t1\n",
      "  (2, 2)\t2\n"
     ]
    }
   ],
   "source": [
    "print(csr_matrix(arr))"
   ]
  },
  {
   "cell_type": "markdown",
   "id": "b4cddd4d",
   "metadata": {},
   "source": [
    "#### Counting nonzeros with the count_nonzero() method:"
   ]
  },
  {
   "cell_type": "code",
   "execution_count": 32,
   "id": "98307177",
   "metadata": {},
   "outputs": [
    {
     "name": "stdout",
     "output_type": "stream",
     "text": [
      "3\n"
     ]
    }
   ],
   "source": [
    "import numpy as np\n",
    "from scipy.sparse import csr_matrix\n",
    "arr = np.array([[0, 0, 0], [0, 0, 1], [1, 0, 2]])\n",
    "print(csr_matrix(arr).count_nonzero())"
   ]
  },
  {
   "cell_type": "markdown",
   "id": "b3c8e234",
   "metadata": {},
   "source": [
    "#### Removing zero-entries from the matrix with the eliminate_zeros() method:"
   ]
  },
  {
   "cell_type": "code",
   "execution_count": 40,
   "id": "91faaaea",
   "metadata": {},
   "outputs": [
    {
     "name": "stdout",
     "output_type": "stream",
     "text": [
      "  (1, 2)\t1\n",
      "  (2, 0)\t1\n",
      "  (2, 2)\t2\n"
     ]
    }
   ],
   "source": [
    "import numpy as np\n",
    "from scipy.sparse import csr_matrix\n",
    "arr = np.array([[0, 0, 0], [0, 0, 1], [1, 0, 2]])\n",
    "mat = csr_matrix(arr)\n",
    "mat.eliminate_zeros()\n",
    "print(mat)"
   ]
  },
  {
   "cell_type": "markdown",
   "id": "2d21a449",
   "metadata": {},
   "source": [
    "### Eliminating duplicate entries with the sum_duplicates() method:"
   ]
  },
  {
   "cell_type": "code",
   "execution_count": 42,
   "id": "b485af2a",
   "metadata": {},
   "outputs": [
    {
     "name": "stdout",
     "output_type": "stream",
     "text": [
      "  (1, 2)\t1\n",
      "  (2, 0)\t1\n",
      "  (2, 2)\t2\n"
     ]
    }
   ],
   "source": [
    "#Eliminating duplicates by adding them:\n",
    "import numpy as np\n",
    "from scipy.sparse import csr_matrix\n",
    "arr = np.array([[0, 0, 0], [0, 0, 1], [1, 0, 2]])\n",
    "mat = csr_matrix(arr)\n",
    "mat.sum_duplicates()\n",
    "print(mat)"
   ]
  },
  {
   "cell_type": "markdown",
   "id": "62330de5",
   "metadata": {},
   "source": [
    "#### Converting from csr to csc with the tocsc() method:"
   ]
  },
  {
   "cell_type": "code",
   "execution_count": 43,
   "id": "dbd34a35",
   "metadata": {},
   "outputs": [
    {
     "name": "stdout",
     "output_type": "stream",
     "text": [
      "  (2, 0)\t1\n",
      "  (1, 2)\t1\n",
      "  (2, 2)\t2\n"
     ]
    }
   ],
   "source": [
    "import numpy as np\n",
    "from scipy.sparse import csr_matrix\n",
    "arr = np.array([[0, 0, 0], [0, 0, 1], [1, 0, 2]])\n",
    "newarr = csr_matrix(arr).tocsc()\n",
    "print(newarr)"
   ]
  },
  {
   "cell_type": "markdown",
   "id": "9936b5ba",
   "metadata": {},
   "source": [
    "`Note: Apart from the mentioned sparse specific operations, sparse matrices support all of the operations that normal matrices support e.g. reshaping,summing, arithmetic, broadcasting etc.`"
   ]
  },
  {
   "cell_type": "markdown",
   "id": "68ed5812",
   "metadata": {},
   "source": [
    "# SciPy Graphs\n",
    "- Graphs are an essential data structure.\n",
    "- SciPy provides us with the module `scipy.sparse.csgraph` for working with such data structures"
   ]
  },
  {
   "cell_type": "markdown",
   "id": "1467e938",
   "metadata": {},
   "source": [
    "### Adjacency Matrix\n",
    "- Adjacency matrix is a nxn matrix where n is the number of elements in a graph.\n",
    "- And the values represent the connection between the elements.\n",
    "- For a graph like this, with elements A, B and C, the connections are:\n",
    "- \n",
    "`\n",
    "A & B are connected with weight 1.\n",
    "A & C are connected with weight 2.\n",
    "C & B is not connected.\n",
    "The Adjacency Matrix would look like this:\n",
    "    A B C\n",
    "A:[0 1 2]\n",
    "B:[1 0 0]\n",
    "C:[2 0 0]\n",
    "Below follows some of the most used methods for working with adjacency matrices.\n",
    "`"
   ]
  },
  {
   "cell_type": "markdown",
   "id": "1562636d",
   "metadata": {},
   "source": [
    "### Connected Components\n",
    "- Find all of the connected components with the `connected_components()` method."
   ]
  },
  {
   "cell_type": "code",
   "execution_count": 44,
   "id": "4e375ac7",
   "metadata": {},
   "outputs": [
    {
     "name": "stdout",
     "output_type": "stream",
     "text": [
      "(1, array([0, 0, 0]))\n"
     ]
    }
   ],
   "source": [
    "import numpy as np\n",
    "from scipy.sparse.csgraph import connected_components\n",
    "from scipy.sparse import csr_matrix\n",
    "arr = np.array([\n",
    "[0, 1, 2],\n",
    "[1, 0, 0],\n",
    "[2, 0, 0]\n",
    "])\n",
    "newarr = csr_matrix(arr)\n",
    "print(connected_components(newarr))"
   ]
  },
  {
   "cell_type": "markdown",
   "id": "219ecf19",
   "metadata": {},
   "source": [
    "## Dijkstra\n",
    "- Use the dijkstra method to find the shortest path in a graph from one element to another.\n",
    "- It takes following arguments\n",
    "\n",
    "1. `return_predecessors:` boolean (True to return whole path of traversal otherwise False).\n",
    "2. `indices:` index of the element to return all paths from that element only.\n",
    "3. `limit:` max weight of path."
   ]
  },
  {
   "cell_type": "code",
   "execution_count": 45,
   "id": "1945d4ce",
   "metadata": {},
   "outputs": [
    {
     "name": "stdout",
     "output_type": "stream",
     "text": [
      "(array([0., 1., 2.]), array([-9999,     0,     0]))\n"
     ]
    }
   ],
   "source": [
    "# Find the shortest path from element 1 to 2:\n",
    "import numpy as np\n",
    "from scipy.sparse.csgraph import dijkstra\n",
    "from scipy.sparse import csr_matrix\n",
    "arr = np.array([\n",
    "[0, 1, 2],\n",
    "[1, 0, 0],\n",
    "[2, 0, 0]])\n",
    "newarr = csr_matrix(arr)\n",
    "print(dijkstra(newarr, return_predecessors=True, indices=0))\n",
    "    "
   ]
  },
  {
   "cell_type": "markdown",
   "id": "037c0e3d",
   "metadata": {},
   "source": [
    "## Floyd Warshall\n",
    "- Use the `floyd_warshall()` method to find the shortest path between all pairs of elements."
   ]
  },
  {
   "cell_type": "code",
   "execution_count": 46,
   "id": "5612a048",
   "metadata": {},
   "outputs": [
    {
     "name": "stdout",
     "output_type": "stream",
     "text": [
      "(array([[0., 1., 2.],\n",
      "       [1., 0., 3.],\n",
      "       [2., 3., 0.]]), array([[-9999,     0,     0],\n",
      "       [    1, -9999,     0],\n",
      "       [    2,     0, -9999]]))\n"
     ]
    }
   ],
   "source": [
    "#Find the shortest path between all pairs of elements:\n",
    "import numpy as np\n",
    "from scipy.sparse.csgraph import floyd_warshall\n",
    "from scipy.sparse import csr_matrix\n",
    "arr = np.array([\n",
    "[0, 1, 2],\n",
    "[1, 0, 0],\n",
    "[2, 0, 0]\n",
    "])\n",
    "newarr = csr_matrix(arr)\n",
    "print(floyd_warshall(newarr, return_predecessors=True))"
   ]
  },
  {
   "cell_type": "markdown",
   "id": "110a5a0d",
   "metadata": {},
   "source": [
    "## Bellman Ford\n",
    "- The `bellman_ford()` method can also find the shortest path between all pairs of elements, but this method can handle negative weights as well."
   ]
  },
  {
   "cell_type": "code",
   "execution_count": 47,
   "id": "bdd388ae",
   "metadata": {},
   "outputs": [
    {
     "name": "stdout",
     "output_type": "stream",
     "text": [
      "(array([ 0., -1.,  2.]), array([-9999,     0,     0]))\n"
     ]
    }
   ],
   "source": [
    "#Find shortest path from element 1 to 2 with given graph with a negative weight:\n",
    "import numpy as np\n",
    "from scipy.sparse.csgraph import bellman_ford\n",
    "from scipy.sparse import csr_matrix\n",
    "arr = np.array([\n",
    "[0, -1, 2],\n",
    "[1, 0, 0],\n",
    "[2, 0, 0]\n",
    "])\n",
    "newarr = csr_matrix(arr)\n",
    "print(bellman_ford(newarr, return_predecessors=True, indices=0))"
   ]
  },
  {
   "cell_type": "markdown",
   "id": "47f1517a",
   "metadata": {},
   "source": [
    "## Depth First Order\n",
    "- The `depth_first_order()` method returns a depth first traversal from a node.\n",
    "- This function takes following arguments:\n",
    "1. the graph.\n",
    "2. the starting element to traverse the graph from."
   ]
  },
  {
   "cell_type": "code",
   "execution_count": 48,
   "id": "8476549b",
   "metadata": {},
   "outputs": [
    {
     "name": "stdout",
     "output_type": "stream",
     "text": [
      "(array([1, 0, 3, 2]), array([    1, -9999,     1,     0]))\n"
     ]
    }
   ],
   "source": [
    "#Traverse the graph depth first for given adjacency matrix:\n",
    "import numpy as np\n",
    "from scipy.sparse.csgraph import depth_first_order\n",
    "from scipy.sparse import csr_matrix\n",
    "arr = np.array([\n",
    "[0, 1, 0, 1],\n",
    "[1, 1, 1, 1],\n",
    "[2, 1, 1, 0],\n",
    "[0, 1, 0, 1]\n",
    "])\n",
    "newarr = csr_matrix(arr)\n",
    "print(depth_first_order(newarr, 1))"
   ]
  },
  {
   "cell_type": "markdown",
   "id": "3c7821e8",
   "metadata": {},
   "source": [
    "## Breadth First Order\n",
    "- The `breadth_first_order()` method returns a breadth first traversal from a node.\n",
    "- This function takes following arguments:\n",
    "1. the graph.\n",
    "2. the starting element to traverse the graph from.\n",
    "\n"
   ]
  },
  {
   "cell_type": "code",
   "execution_count": 50,
   "id": "0001433a",
   "metadata": {},
   "outputs": [
    {
     "name": "stdout",
     "output_type": "stream",
     "text": [
      "(array([1, 0, 2, 3]), array([    1, -9999,     1,     1]))\n"
     ]
    }
   ],
   "source": [
    "#Traverse the graph breadth first for given adjacency matrix:\n",
    "import numpy as np\n",
    "from scipy.sparse.csgraph import breadth_first_order\n",
    "from scipy.sparse import csr_matrix\n",
    "arr = np.array([\n",
    "[0, 1, 0, 1],\n",
    "[1, 1, 1, 1],\n",
    "[2, 1, 1, 0],\n",
    "[0, 1, 0, 1]\n",
    "])\n",
    "newarr = csr_matrix(arr)\n",
    "print(breadth_first_order(newarr, 1))"
   ]
  },
  {
   "cell_type": "markdown",
   "id": "e6708997",
   "metadata": {},
   "source": [
    "# SciPy Spatial Data\n",
    "- Spatial data refers to data that is represented in a geometric space.\n",
    "     - E.g. points on a coordinate system.\n",
    "- We deal with spatial data problems on many tasks.\n",
    "    - E.g. finding if a point is inside a boundary or not.\n",
    "- SciPy provides us with the module `scipy.spatial`, which has functions for working with spatial data.  "
   ]
  },
  {
   "cell_type": "markdown",
   "id": "b11548c4",
   "metadata": {},
   "source": [
    "### Triangulation\n",
    "- A Triangulation of a polygon is to divide the polygon into multiple triangles with which we can compute an area of the polygon.\n",
    "- A Triangulation with points means creating surface composed triangles in which all of the given points are on at least  one vertex of any triangle in the surface.\n",
    "- One method to generate these triangulations through points is the Delaunay() Triangulation."
   ]
  },
  {
   "cell_type": "code",
   "execution_count": 51,
   "id": "5023b6ee",
   "metadata": {},
   "outputs": [
    {
     "data": {
      "image/png": "[encoded data removed]",
      "text/plain": [
       "<Figure size 432x288 with 1 Axes>"
      ]
     },
     "metadata": {
      "needs_background": "light"
     },
     "output_type": "display_data"
    }
   ],
   "source": [
    "#Create a triangulation from following points:\n",
    "import numpy as np\n",
    "from scipy.spatial import Delaunay\n",
    "import matplotlib.pyplot as plt\n",
    "points = np.array([\n",
    "[2, 4],\n",
    "[3, 4],\n",
    "[3, 0],\n",
    "[2, 2],\n",
    "[4, 1]])\n",
    "simplices = Delaunay(points).simplices\n",
    "plt.triplot(points[:, 0], points[:, 1], simplices)\n",
    "plt.scatter(points[:, 0], points[:, 1], color='r')\n",
    "plt.show()\n",
    "    "
   ]
  },
  {
   "cell_type": "markdown",
   "id": "5bc2a747",
   "metadata": {},
   "source": [
    "Note: The simplices property creates a generalization of the triangle notation."
   ]
  },
  {
   "cell_type": "markdown",
   "id": "eda46ea5",
   "metadata": {},
   "source": [
    "### Convex Hull\n",
    "- A convex hull is the smallest polygon that covers all of the given points.\n",
    "- Use the `ConvexHull()` method to create a Convex Hull."
   ]
  },
  {
   "cell_type": "code",
   "execution_count": 53,
   "id": "20c12779",
   "metadata": {},
   "outputs": [
    {
     "data": {
      "image/png": "[encoded data removed]",
      "text/plain": [
       "<Figure size 432x288 with 1 Axes>"
      ]
     },
     "metadata": {
      "needs_background": "light"
     },
     "output_type": "display_data"
    }
   ],
   "source": [
    "#Create a convex hull for following points:\n",
    "import numpy as np\n",
    "from scipy.spatial import ConvexHull\n",
    "import matplotlib.pyplot as plt\n",
    "points = np.array([[2, 4],\n",
    "[3, 4],\n",
    "[3, 0],\n",
    "[2, 2],\n",
    "[4, 1],\n",
    "[1, 2],\n",
    "[5, 0],\n",
    "[3, 1],\n",
    "[1, 2],\n",
    "[0, 2]\n",
    "])\n",
    "hull = ConvexHull(points)\n",
    "hull_points = hull.simplices\n",
    "plt.scatter(points[:,0], points[:,1])\n",
    "for simplex in hull_points:\n",
    "    plt.plot(points[simplex,0], points[simplex,1], 'k-')\n",
    "plt.show()"
   ]
  },
  {
   "cell_type": "markdown",
   "id": "1ccab216",
   "metadata": {},
   "source": [
    "### KDTrees\n",
    "- KDTrees are a datastructure optimized for nearest neighbor queries.\n",
    "    - E.g. in a set of points using KDTrees we can efficiently ask which points are nearest to a certain given point.\n",
    "- The `KDTree()` method returns a KDTree object.\n",
    "- The `query()` method returns the distance to the nearest neighbor and the location of the neighbors."
   ]
  },
  {
   "cell_type": "code",
   "execution_count": 54,
   "id": "851abcaa",
   "metadata": {},
   "outputs": [
    {
     "name": "stdout",
     "output_type": "stream",
     "text": [
      "(2.0, 0)\n"
     ]
    }
   ],
   "source": [
    "#Find the nearest neighbor to point (1,1):\n",
    "from scipy.spatial import KDTree\n",
    "points = [(1, -1), (2, 3), (-2, 3), (2, -3)]\n",
    "kdtree = KDTree(points)\n",
    "res = kdtree.query((1, 1))\n",
    "print(res)"
   ]
  },
  {
   "cell_type": "markdown",
   "id": "c19390c4",
   "metadata": {},
   "source": [
    "## Distance Matrix\n",
    "- There are many Distance Metrics used to find various types of distances between two points in data science, Euclidean distance, cosine distance etc.\n",
    "- The distance between two vectors may not only be the length of straight line between them, it can also be the angle between them from origin, or number of unit steps required etc.\n",
    "- Many of the Machine Learning algorithm's performance depends greatly on distance matrices. E.g. \"K Nearest Neighbors'', or \"K Means'' etc.\n",
    "- Let us look at some of the Distance Metrics:"
   ]
  },
  {
   "cell_type": "markdown",
   "id": "dbac7134",
   "metadata": {},
   "source": [
    "### Euclidean Distance\n",
    "- Find the euclidean distance between given points."
   ]
  },
  {
   "cell_type": "code",
   "execution_count": 55,
   "id": "f73c4d01",
   "metadata": {},
   "outputs": [
    {
     "name": "stdout",
     "output_type": "stream",
     "text": [
      "9.219544457292887\n"
     ]
    }
   ],
   "source": [
    "from scipy.spatial.distance import euclidean\n",
    "p1 = (1, 0)\n",
    "p2 = (10, 2)\n",
    "res = euclidean(p1, p2)\n",
    "print(res)"
   ]
  },
  {
   "cell_type": "markdown",
   "id": "0d2cf662",
   "metadata": {},
   "source": [
    "### Cityblock Distance (Manhattan Distance)\n",
    "- Is the distance computed using 4 degrees of movement.\n",
    "    - E.g. we can only move: up, down, right, or left, not diagonally."
   ]
  },
  {
   "cell_type": "code",
   "execution_count": 56,
   "id": "a3ac8585",
   "metadata": {},
   "outputs": [
    {
     "name": "stdout",
     "output_type": "stream",
     "text": [
      "11\n"
     ]
    }
   ],
   "source": [
    "#Find the cityblock distance between given points:\n",
    "from scipy.spatial.distance import cityblock\n",
    "p1 = (1, 0)\n",
    "p2 = (10, 2)\n",
    "res = cityblock(p1, p2)\n",
    "print(res)"
   ]
  },
  {
   "cell_type": "markdown",
   "id": "534594ab",
   "metadata": {},
   "source": [
    "### Cosine Distance\n",
    "- Is the value of cosine angle between the two points A and B."
   ]
  },
  {
   "cell_type": "code",
   "execution_count": 57,
   "id": "db68bece",
   "metadata": {},
   "outputs": [
    {
     "name": "stdout",
     "output_type": "stream",
     "text": [
      "0.019419324309079777\n"
     ]
    }
   ],
   "source": [
    "#Find the cosine distance between given points:\n",
    "from scipy.spatial.distance import cosine\n",
    "p1 = (1, 0)\n",
    "p2 = (10, 2)\n",
    "res = cosine(p1, p2)\n",
    "print(res)"
   ]
  },
  {
   "cell_type": "markdown",
   "id": "73e8c5b9",
   "metadata": {},
   "source": [
    "### Hamming Distance\n",
    "- Is the proportion of bits where two bits are different.\n",
    "- It's a way to measure distance for binary sequences."
   ]
  },
  {
   "cell_type": "code",
   "execution_count": 58,
   "id": "37f58405",
   "metadata": {},
   "outputs": [
    {
     "name": "stdout",
     "output_type": "stream",
     "text": [
      "0.6666666666666666\n"
     ]
    }
   ],
   "source": [
    "#Find the hamming distance between given points:\n",
    "from scipy.spatial.distance import hamming\n",
    "p1 = (True, False, True)\n",
    "p2 = (False, True, True)\n",
    "res = hamming(p1, p2)\n",
    "print(res)"
   ]
  },
  {
   "cell_type": "markdown",
   "id": "db15ee00",
   "metadata": {},
   "source": [
    "# SciPy Matlab Arrays"
   ]
  },
  {
   "cell_type": "markdown",
   "id": "3a016a4c",
   "metadata": {},
   "source": [
    "### Working With Matlab Arrays\n",
    "- We know that NumPy provides us with methods to persist the data in readable formats for Python. But SciPy provides us with interoperability with Matlab as well.\n",
    "- SciPy provides us with the module scipy.io, which has functions for working with Matlab arrays."
   ]
  },
  {
   "cell_type": "markdown",
   "id": "61238b7e",
   "metadata": {},
   "source": [
    "### Exporting Data in Matlab Format\n",
    "- The `savemat()` function allows us to export data in Matlab format.\n",
    "- The method takes the following parameters:\n",
    "1. filename - the file name for saving data.\n",
    "2. mdict - a dictionary containing the data.\n",
    "3. do_compression - a boolean value that specifies whether to compress the result or not. Default False."
   ]
  },
  {
   "cell_type": "code",
   "execution_count": 60,
   "id": "9516ff81",
   "metadata": {},
   "outputs": [],
   "source": [
    "#Export the following array as variable name \"vec\" to a mat file:\n",
    "from scipy import io\n",
    "import numpy as np\n",
    "arr = np.arange(10)\n",
    "io.savemat('arr.mat', {\"vec\": arr})"
   ]
  },
  {
   "cell_type": "markdown",
   "id": "0e49e36f",
   "metadata": {},
   "source": [
    "Note: The example above saves a file name \"arr.mat\" on your computer.\n",
    "To open the file, check out the \"Import Data from Matlab Format\" example below:"
   ]
  },
  {
   "cell_type": "markdown",
   "id": "77e4a4f8",
   "metadata": {},
   "source": [
    "### Import Data from Matlab Format\n",
    "- The `loadmat()` function allows us to import data from a Matlab file.\n",
    "- The function takes one required parameter:\n",
    "- filename - the file name of the saved data.\n",
    "- It will return a structured array whose keys are the variable names, and the corresponding values are the variable values."
   ]
  },
  {
   "cell_type": "code",
   "execution_count": 61,
   "id": "ec690d92",
   "metadata": {},
   "outputs": [
    {
     "name": "stdout",
     "output_type": "stream",
     "text": [
      "{'__header__': b'MATLAB 5.0 MAT-file Platform: nt, Created on: Wed Apr 19 17:58:38 2023', '__version__': '1.0', '__globals__': [], 'vec': array([[0, 1, 2, 3, 4, 5, 6, 7, 8, 9]])}\n"
     ]
    }
   ],
   "source": [
    "#Import the array from following mat file.:\n",
    "from scipy import io\n",
    "import numpy as np\n",
    "arr = np.array([0, 1, 2, 3, 4, 5, 6, 7, 8, 9,])\n",
    "# Export:\n",
    "io.savemat('arr.mat', {\"vec\": arr})\n",
    "# Import:\n",
    "mydata = io.loadmat('arr.mat')\n",
    "print(mydata)"
   ]
  },
  {
   "cell_type": "code",
   "execution_count": 62,
   "id": "63203d26",
   "metadata": {},
   "outputs": [
    {
     "data": {
      "text/plain": [
       "{'__header__': b'MATLAB 5.0 MAT-file Platform: nt, Created on: Wed Apr 19 17:58:38 2023',\n",
       " '__version__': '1.0',\n",
       " '__globals__': [],\n",
       " 'vec': array([[0, 1, 2, 3, 4, 5, 6, 7, 8, 9]])}"
      ]
     },
     "execution_count": 62,
     "metadata": {},
     "output_type": "execute_result"
    }
   ],
   "source": [
    "mydata"
   ]
  },
  {
   "cell_type": "code",
   "execution_count": 63,
   "id": "2edd2b8d",
   "metadata": {},
   "outputs": [
    {
     "name": "stdout",
     "output_type": "stream",
     "text": [
      "[[0 1 2 3 4 5 6 7 8 9]]\n"
     ]
    }
   ],
   "source": [
    "#Use the variable name \"vec\" to display only the array from the matlab data:\n",
    "print(mydata['vec'])"
   ]
  },
  {
   "cell_type": "markdown",
   "id": "ec1a7e67",
   "metadata": {},
   "source": [
    "Note: We can see that the array originally was 1D, but on extraction it has\n",
    "increased one dimension."
   ]
  },
  {
   "cell_type": "markdown",
   "id": "597c0ab8",
   "metadata": {},
   "source": [
    "In order to resolve this we can pass an additional argument squeeze_me=True:"
   ]
  },
  {
   "cell_type": "code",
   "execution_count": 64,
   "id": "ac3b3622",
   "metadata": {},
   "outputs": [
    {
     "name": "stdout",
     "output_type": "stream",
     "text": [
      "[0 1 2 3 4 5 6 7 8 9]\n"
     ]
    }
   ],
   "source": [
    "mydata = io.loadmat('arr.mat', squeeze_me=True)\n",
    "print(mydata['vec'])"
   ]
  },
  {
   "cell_type": "markdown",
   "id": "9fed121a",
   "metadata": {},
   "source": [
    "# SciPy Interpolation\n"
   ]
  },
  {
   "cell_type": "markdown",
   "id": "7efc73a1",
   "metadata": {},
   "source": [
    "### What is Interpolation?\n",
    "- Interpolation is a method for generating points between given points.\n",
    "- For example: for points 1 and 2, we may interpolate and find points 1.33 and 1.66.\n",
    "- Interpolation has many uses, in Machine Learning we often deal with missing data in a dataset, interpolation is often used to substitute those values.\n",
    "- This method of filling values is called imputation.\n",
    "- Apart from imputation, interpolation is often used where we need to smooth the discrete points in a dataset."
   ]
  },
  {
   "cell_type": "markdown",
   "id": "9822e268",
   "metadata": {},
   "source": [
    "### How to Implement it in SciPy?\n",
    "- SciPy provides us with a module called `scipy.interpolate` which has many functions to deal with interpolation:"
   ]
  },
  {
   "cell_type": "markdown",
   "id": "ad7e8c08",
   "metadata": {},
   "source": [
    "### 1D Interpolation\n",
    "- The function `interp1d() `is used to interpolate a distribution with 1 variable.\n",
    "- It takes x and y points and returns a callable function that can be called with new x and returns corresponding y."
   ]
  },
  {
   "cell_type": "code",
   "execution_count": 65,
   "id": "0eefb21a",
   "metadata": {},
   "outputs": [
    {
     "name": "stdout",
     "output_type": "stream",
     "text": [
      "[5.2 5.4 5.6 5.8 6.  6.2 6.4 6.6 6.8]\n"
     ]
    }
   ],
   "source": [
    "#For given xs and ys interpolate values from 2.1, 2.2... to 2.9:\n",
    "from scipy.interpolate import interp1d\n",
    "import numpy as np\n",
    "xs = np.arange(10)\n",
    "ys = 2*xs + 1\n",
    "interp_func = interp1d(xs, ys)\n",
    "newarr = interp_func(np.arange(2.1, 3, 0.1))\n",
    "print(newarr)"
   ]
  },
  {
   "cell_type": "markdown",
   "id": "5a638fad",
   "metadata": {},
   "source": [
    "`Note: that new xs should be in the same range as of the old xs, meaning that we can't call interp_func() with values higher than 10, or less than 0.`"
   ]
  },
  {
   "cell_type": "markdown",
   "id": "960a569f",
   "metadata": {},
   "source": [
    "### Spline Interpolation\n",
    "- In 1D interpolation the points are fitted for a single curve whereas in Spline interpolation the points are fitted against a piecewise function defined with polynomials called splines.\n",
    "- The `UnivariateSpline()` function takes xs and ys and produces a callback function that can be called with new xs.\n",
    "- `Piecewise function:` A function that has different definitions for different ranges"
   ]
  },
  {
   "cell_type": "code",
   "execution_count": 69,
   "id": "2131a409",
   "metadata": {},
   "outputs": [
    {
     "name": "stdout",
     "output_type": "stream",
     "text": [
      "[5.62826474 6.03987348 6.47131994 6.92265019 7.3939103  7.88514634\n",
      " 8.39640439 8.92773053 9.47917082]\n"
     ]
    }
   ],
   "source": [
    "#Find univariate spline interpolation for 2.1, 2.2... 2.9 for the following nonlinear points:\n",
    "from scipy.interpolate import UnivariateSpline\n",
    "import numpy as np\n",
    "xs = np.arange(10)\n",
    "ys = xs**2 + np.sin(xs) + 1\n",
    "interp_func = UnivariateSpline(xs, ys)\n",
    "newarr = interp_func(np.arange(2.1, 3, 0.1))\n",
    "print(newarr)"
   ]
  },
  {
   "cell_type": "markdown",
   "id": "7264379b",
   "metadata": {},
   "source": [
    "### Interpolation with Radial Basis Function\n",
    "- Radial basis function is a function that is defined corresponding to a fixed reference point.\n",
    "- The `Rbf()` function also takes xs and ys as arguments and produces a callable function that can be called with new xs."
   ]
  },
  {
   "cell_type": "code",
   "execution_count": 70,
   "id": "4eb34128",
   "metadata": {},
   "outputs": [
    {
     "name": "stdout",
     "output_type": "stream",
     "text": [
      "[6.25748981 6.62190817 7.00310702 7.40121814 7.8161443  8.24773402\n",
      " 8.69590519 9.16070828 9.64233874]\n"
     ]
    }
   ],
   "source": [
    "#Interpolate following xs and ys using rbf and find values for 2.1, 2.2 ... 2.9:\n",
    "from scipy.interpolate import Rbf\n",
    "import numpy as np\n",
    "xs = np.arange(10)\n",
    "ys = xs**2 + np.sin(xs) + 1\n",
    "interp_func = Rbf(xs, ys)\n",
    "newarr = interp_func(np.arange(2.1, 3, 0.1))\n",
    "print(newarr)"
   ]
  },
  {
   "cell_type": "markdown",
   "id": "1ac059ac",
   "metadata": {},
   "source": [
    "# SciPy Statistical Significance Tests"
   ]
  },
  {
   "cell_type": "markdown",
   "id": "d677c1f1",
   "metadata": {},
   "source": [
    "### What is a Statistical Significance Test?\n",
    "- In statistics, statistical significance means that the result that was produced has a reason behind it, it was not produced randomly, or by chance.\n",
    "- SciPy provides us with a module named `scipy.stats`, which has functions for performing statistical significance tests.\n",
    "- Here are some techniques and keywords that are important when performing such tests."
   ]
  },
  {
   "cell_type": "markdown",
   "id": "48625f11",
   "metadata": {},
   "source": [
    "#### Hypothesis in Statistics\n",
    "- Hypothesis is an assumption about a parameter in population."
   ]
  },
  {
   "cell_type": "markdown",
   "id": "bf1cc013",
   "metadata": {},
   "source": [
    "### Null Hypothesis\n",
    "- It assumes that the observation is not statistically significant."
   ]
  },
  {
   "cell_type": "markdown",
   "id": "b6cfa0b0",
   "metadata": {},
   "source": [
    "#### Alternate Hypothesis\n",
    "- It assumes that the observations are due to some reason. It's an alternative to Null Hypothesis"
   ]
  },
  {
   "cell_type": "markdown",
   "id": "6e3e4fd0",
   "metadata": {},
   "source": [
    "#### Example:\n",
    "- For an assessment of a student we would take:\n",
    "- ``\n",
    "\"student is worse than average\" - as a null hypothesis, and:\n",
    "\"student is better than average\" - as an alternate hypothesis.``"
   ]
  },
  {
   "cell_type": "markdown",
   "id": "99107a45",
   "metadata": {},
   "source": [
    "### One tailed test\n",
    "- When our hypothesis is testing for one side of the value only, it is called \"one tailed test\"."
   ]
  },
  {
   "cell_type": "markdown",
   "id": "0381086d",
   "metadata": {},
   "source": [
    "#### Example:\n",
    "``\n",
    "For the null hypothesis:\n",
    "\"the mean is equal to k\", we can have alternate hypothesis:\n",
    "\"the mean is less than k\", or:\n",
    "\"the mean is greater than k\"\n",
    "``"
   ]
  },
  {
   "cell_type": "markdown",
   "id": "6f5ac46f",
   "metadata": {},
   "source": [
    "### Two tailed test\n",
    "- When our hypothesis is tested for both sides of the values"
   ]
  },
  {
   "cell_type": "markdown",
   "id": "5a89d78b",
   "metadata": {},
   "source": [
    "#### Example:\n",
    "``\n",
    "For the null hypothesis:\n",
    "\"the mean is equal to k\", we can have alternate hypothesis:\n",
    "\"the mean is not equal to k\"\n",
    "In this case the mean is less than, or greater than k, and both sides are to be checked.\n",
    "``"
   ]
  },
  {
   "cell_type": "markdown",
   "id": "4acb3465",
   "metadata": {},
   "source": [
    "### Alpha value\n",
    "- Alpha value is the level of significance."
   ]
  },
  {
   "cell_type": "markdown",
   "id": "6170674c",
   "metadata": {},
   "source": [
    "#### Example:\n",
    "\n",
    "``How close to extremes the data must be for null hypothesis to be rejected.\n",
    "It is usually taken as 0.01, 0.05, or 0.1.``"
   ]
  },
  {
   "cell_type": "markdown",
   "id": "f71ccac4",
   "metadata": {},
   "source": [
    "#### P value\n",
    "``\n",
    "P value tells how close to extreme the data actually is.\n",
    "P value and alpha values are compared to establish statistical significance.\n",
    "If p value <= alpha we reject the null hypothesis and say that the data is statistically significant. \n",
    "otherwise we accept the null hypothesis.\n",
    "``"
   ]
  },
  {
   "cell_type": "markdown",
   "id": "1109338e",
   "metadata": {},
   "source": [
    "### T-Test\n",
    "- T-tests are used to determine if there is significant difference between means of two variables. and lets us know if they belong to the same distribution.\n",
    "- It is a two tailed test.\n",
    "- The function `ttest_ind()` takes two samples of the same size and produces a tuple of t-statistic and p-value"
   ]
  },
  {
   "cell_type": "code",
   "execution_count": 72,
   "id": "73987aff",
   "metadata": {},
   "outputs": [
    {
     "name": "stdout",
     "output_type": "stream",
     "text": [
      "Ttest_indResult(statistic=0.47237765981755675, pvalue=0.6371774752407653)\n"
     ]
    }
   ],
   "source": [
    "# Find if the given values v1 and v2 are from same distribution:\n",
    "import numpy as np\n",
    "from scipy.stats import ttest_ind\n",
    "v1 = np.random.normal(size=100)\n",
    "v2 = np.random.normal(size=100)\n",
    "res = ttest_ind(v1, v2)\n",
    "print(res)"
   ]
  },
  {
   "cell_type": "code",
   "execution_count": 73,
   "id": "76a0ce4e",
   "metadata": {},
   "outputs": [
    {
     "name": "stdout",
     "output_type": "stream",
     "text": [
      "0.6371774752407653\n"
     ]
    }
   ],
   "source": [
    "# If you want to return only the p-value, use the p value property:\n",
    "res = ttest_ind(v1, v2).pvalue\n",
    "print(res)"
   ]
  },
  {
   "cell_type": "markdown",
   "id": "88e1c729",
   "metadata": {},
   "source": [
    "### KS-Test\n",
    "- KS test is used to check if given values follow a distribution.\n",
    "- The function takes the value to be tested, and the CDF as two parameters.\n",
    "- A CDF can be either a string or a callable function that returns the probability.\n",
    "- It can be used as a one tailed or two tailed test.\n",
    "- By default it is two tails. We can pass parameter alternatives as a string of one of two-sided, less, or greater."
   ]
  },
  {
   "cell_type": "code",
   "execution_count": 74,
   "id": "075b983a",
   "metadata": {},
   "outputs": [
    {
     "name": "stdout",
     "output_type": "stream",
     "text": [
      "KstestResult(statistic=0.09547373007252852, pvalue=0.30220663147041105)\n"
     ]
    }
   ],
   "source": [
    "#Find if the given value follows the normal distribution:\n",
    "import numpy as np\n",
    "from scipy.stats import kstest\n",
    "v = np.random.normal(size=100)\n",
    "res = kstest(v, 'norm')\n",
    "print(res)"
   ]
  },
  {
   "cell_type": "markdown",
   "id": "2dc6c09c",
   "metadata": {},
   "source": [
    "### Statistical Description of Data\n",
    "- In order to see a summary of values in an array, we can use the `describe()`function.\n",
    "- It returns the following description:\n",
    "\n",
    "1. number of observations (nobs)\n",
    "2. minimum and maximum values = minmax\n",
    "3. mean\n",
    "4. variance\n",
    "5. skewness\n",
    "6. kurtosis\n"
   ]
  },
  {
   "cell_type": "code",
   "execution_count": 76,
   "id": "75f8aeea",
   "metadata": {},
   "outputs": [
    {
     "name": "stdout",
     "output_type": "stream",
     "text": [
      "DescribeResult(nobs=100, minmax=(-2.38777457454975, 2.300543727766677), mean=0.08683859465286262, variance=1.2026561684550876, skewness=-0.10682741738615795, kurtosis=-0.44127687324925224)\n"
     ]
    }
   ],
   "source": [
    "# Show statistical description of the values in an array:\n",
    "import numpy as np\n",
    "from scipy.stats import describe\n",
    "v = np.random.normal(size=100)\n",
    "res = describe(v)\n",
    "print(res)"
   ]
  },
  {
   "cell_type": "markdown",
   "id": "474bd722",
   "metadata": {},
   "source": [
    "### Normality Tests (Skewness and Kurtosis)\n",
    "- Normality tests are based on the skewness and kurtosis.\n",
    "- The `normaltest()` function returns p value for the null hypothesis:\n",
    "- \"x comes from a normal distribution\".\n",
    "#### Skewness:\n",
    "- A measure of symmetry in data.\n",
    "- For normal distributions it is 0.\n",
    "- If it is negative, it means the data is skewed left.\n",
    "- If it is positive it means the data is skewed right.\n",
    "#### Kurtosis:\n",
    "- A measure of whether the data is heavy or lightly tailed to a normal distribution.\n",
    "- Positive kurtosis means heavy tailed.\n",
    "- Negative kurtosis means lightly tailed."
   ]
  },
  {
   "cell_type": "code",
   "execution_count": 79,
   "id": "c2b00d1f",
   "metadata": {},
   "outputs": [
    {
     "name": "stdout",
     "output_type": "stream",
     "text": [
      "-0.4871830883978832\n",
      "0.21645346109030061\n"
     ]
    }
   ],
   "source": [
    "#Find skewness and kurtosis of values in an array:\n",
    "import numpy as np\n",
    "from scipy.stats import skew, kurtosis\n",
    "v = np.random.normal(size=100)\n",
    "print(skew(v))\n",
    "print(kurtosis(v))                            "
   ]
  },
  {
   "cell_type": "code",
   "execution_count": 80,
   "id": "d6fcd323",
   "metadata": {},
   "outputs": [
    {
     "name": "stdout",
     "output_type": "stream",
     "text": [
      "NormaltestResult(statistic=1.3194255197401226, pvalue=0.5169998162601179)\n"
     ]
    }
   ],
   "source": [
    "#Find if the data comes from a normal distribution:\n",
    "import numpy as np\n",
    "from scipy.stats import normaltest\n",
    "v = np.random.normal(size=100)\n",
    "print(normaltest(v))"
   ]
  },
  {
   "cell_type": "code",
   "execution_count": null,
   "id": "5a2fde25",
   "metadata": {},
   "outputs": [],
   "source": []
  }
 ],
 "metadata": {
  "kernelspec": {
   "display_name": "Python 3 (ipykernel)",
   "language": "python",
   "name": "python3"
  },
  "language_info": {
   "codemirror_mode": {
    "name": "ipython",
    "version": 3
   },
   "file_extension": ".py",
   "mimetype": "text/x-python",
   "name": "python",
   "nbconvert_exporter": "python",
   "pygments_lexer": "ipython3",
   "version": "3.9.12"
  }
 },
 "nbformat": 4,
 "nbformat_minor": 5
}
